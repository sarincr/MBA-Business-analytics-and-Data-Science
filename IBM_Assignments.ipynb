{
  "nbformat": 4,
  "nbformat_minor": 0,
  "metadata": {
    "colab": {
      "provenance": [],
      "authorship_tag": "ABX9TyNIZ6WhjCFCthf/cX0wpQPD",
      "include_colab_link": true
    },
    "kernelspec": {
      "name": "python3",
      "display_name": "Python 3"
    },
    "language_info": {
      "name": "python"
    }
  },
  "cells": [
    {
      "cell_type": "markdown",
      "metadata": {
        "id": "view-in-github",
        "colab_type": "text"
      },
      "source": [
        "<a href=\"https://colab.research.google.com/github/sarincr/MBA-Business-analytics-and-Data-Science/blob/main/IBM_Assignments.ipynb\" target=\"_parent\"><img src=\"https://colab.research.google.com/assets/colab-badge.svg\" alt=\"Open In Colab\"/></a>"
      ]
    },
    {
      "cell_type": "markdown",
      "source": [
        "# Introduction to Data Science\n",
        "Get an introduction to DS"
      ],
      "metadata": {
        "id": "aHfVmWxXKTb7"
      }
    },
    {
      "cell_type": "markdown",
      "source": [
        "# Introduction to Data Science\n",
        "\n",
        "## Introduction\n",
        "\n",
        "Data science is a multidisciplinary field that combines mathematics, statistics, computer science, and domain expertise to extract actionable insights from data, enabling informed decision-making and strategic planning.\n"
      ],
      "metadata": {
        "id": "gvV3ERCQKcFV"
      }
    },
    {
      "cell_type": "markdown",
      "source": [
        "## Data Science Languages\n",
        "\n",
        "Data Science relies on several programming languages for data analysis, machine learning, and visualization. Some of the most commonly used languages include:\n",
        "\n",
        "- **Python** – Widely used for data analysis, machine learning, and automation.\n",
        "- **R** – Popular for statistical computing and data visualization.\n",
        "- **SQL** – Essential for querying and managing structured data.\n",
        "- **Julia** – Known for high-performance numerical computing.\n",
        "- **Scala** – Used with big data frameworks like Apache Spark.\n",
        "- **Java** – Often used in large-scale enterprise applications for data processing.\n",
        "- **C/C++** – Used for performance-critical applications in AI and ML.\n"
      ],
      "metadata": {
        "id": "QXVaSFuyLVOC"
      }
    },
    {
      "cell_type": "markdown",
      "source": [
        "## Data Science Libraries\n",
        "\n",
        "Some of the popular languages that Data Scientists use are:\n",
        "\n",
        "Python\n",
        "\n",
        "1.  Python\n",
        "2.  R\n",
        "3.  Julia\n",
        "4.  SQL\n",
        "5.  Scala"
      ],
      "metadata": {
        "id": "Gw32H9ZvLXZk"
      }
    },
    {
      "cell_type": "markdown",
      "source": [
        "## Data Science Tools\n",
        "\n",
        "Some of the commonly used libraries used by Data Scientists include:\n",
        "\n",
        "| #  | **Library**      | **Purpose**                        |\n",
        "|----|-----------------|----------------------------------|\n",
        "| 1  | **Pandas**      | Data manipulation and analysis   |\n",
        "| 2  | **NumPy**       | Numerical computing              |\n",
        "| 3  | **Matplotlib**  | Data visualization               |\n",
        "| 4  | **Scikit-learn**| Machine learning                 |\n",
        "| 5  | **TensorFlow**  | Deep learning                    |\n"
      ],
      "metadata": {
        "id": "MoeFcHbaMKFh"
      }
    },
    {
      "cell_type": "markdown",
      "source": [
        "### Examples of Arithmetic Expressions\n",
        "\n",
        "- **Addition**: 7 + 5 = 12  \n",
        "- **Subtraction**: 20 - 6 = 14  \n",
        "- **Multiplication**: 3 × 9 = 27  \n",
        "- **Division**: 24 ÷ 3 = 8  \n"
      ],
      "metadata": {
        "id": "AXhpVqjSM2us"
      }
    },
    {
      "cell_type": "code",
      "source": [
        "# Multiply 3 by 4 and add 5 to the result\n",
        "result = (3 * 4) + 5\n",
        "print(result)  # Output: 17\n"
      ],
      "metadata": {
        "colab": {
          "base_uri": "https://localhost:8080/"
        },
        "id": "zcq_QLIHNGSZ",
        "outputId": "036df290-5f4b-44bb-88c7-e11153d4fff3"
      },
      "execution_count": 1,
      "outputs": [
        {
          "output_type": "stream",
          "name": "stdout",
          "text": [
            "17\n"
          ]
        }
      ]
    },
    {
      "cell_type": "code",
      "source": [
        "# Convert 200 minutes to hours (1 hour = 60 minutes)\n",
        "minutes = 200\n",
        "hours = minutes / 60\n",
        "print(round(hours, 2))  # Output: 3.33\n"
      ],
      "metadata": {
        "colab": {
          "base_uri": "https://localhost:8080/"
        },
        "id": "Mzq18dryNIuw",
        "outputId": "319aefd9-f2ff-4293-96d7-3542bf9c9c2a"
      },
      "execution_count": 2,
      "outputs": [
        {
          "output_type": "stream",
          "name": "stdout",
          "text": [
            "3.33\n"
          ]
        }
      ]
    },
    {
      "cell_type": "markdown",
      "source": [
        "**Objectives**\n",
        "\n",
        "- Understand the basics of Data Science.  \n",
        "- Learn about common Data Science tools and libraries.  \n",
        "- Perform basic arithmetic operations in Python.  \n",
        "- Convert time units using Python calculations.  \n"
      ],
      "metadata": {
        "id": "7l3ZcV6aNeV3"
      }
    },
    {
      "cell_type": "markdown",
      "source": [
        "## Author\n",
        "\n",
        "John Doe\n"
      ],
      "metadata": {
        "id": "be4xgWtENtWh"
      }
    },
    {
      "cell_type": "code",
      "source": [],
      "metadata": {
        "id": "MwQJQ72pNTKt"
      },
      "execution_count": null,
      "outputs": []
    },
    {
      "cell_type": "markdown",
      "source": [],
      "metadata": {
        "id": "kEsta4oVNogk"
      }
    }
  ]
}